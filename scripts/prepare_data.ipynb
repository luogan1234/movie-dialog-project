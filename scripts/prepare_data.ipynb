{
 "nbformat": 4,
 "nbformat_minor": 2,
 "metadata": {
  "language_info": {
   "name": "python",
   "codemirror_mode": {
    "name": "ipython",
    "version": 3
   },
   "version": "3.6.9-final"
  },
  "orig_nbformat": 2,
  "file_extension": ".py",
  "mimetype": "text/x-python",
  "name": "python",
  "npconvert_exporter": "python",
  "pygments_lexer": "ipython3",
  "version": 3,
  "kernelspec": {
   "name": "python36964bittorchconda1a439d6d8c364fd69d27dafa7a7c4e60",
   "display_name": "Python 3.6.9 64-bit ('torch': conda)"
  }
 },
 "cells": [
  {
   "cell_type": "code",
   "execution_count": 1,
   "metadata": {},
   "outputs": [],
   "source": [
    "import numpy as np\n",
    "movie_data = np.load('movie_data_v1.npy', allow_pickle=True)[()]"
   ]
  },
  {
   "cell_type": "code",
   "execution_count": 2,
   "metadata": {},
   "outputs": [
    {
     "name": "stdout",
     "output_type": "stream",
     "text": "524 31 62\n"
    }
   ],
   "source": [
    "import random\n",
    "random.seed(1230)\n",
    "\n",
    "movie_ids = list(movie_data.keys())\n",
    "num_movie = len(movie_ids)\n",
    "random.shuffle(movie_ids)\n",
    "\n",
    "split_1, split_2 = int(num_movie * 0.85), int(num_movie * 0.9)\n",
    "train_ids = movie_ids[:split_1]\n",
    "valid_ids = movie_ids[split_1:split_2]\n",
    "test_ids = movie_ids[split_2:]\n",
    "print(len(train_ids), len(valid_ids), len(test_ids))"
   ]
  },
  {
   "cell_type": "code",
   "execution_count": 3,
   "metadata": {},
   "outputs": [
    {
     "name": "stdout",
     "output_type": "stream",
     "text": "24\n"
    }
   ],
   "source": [
    "genres = set()\n",
    "for movie_id in movie_ids:\n",
    "    cur_genres = eval(movie_data[movie_id]['meta'][2])\n",
    "    for genre in cur_genres:\n",
    "        genres.add(genre)\n",
    "genre_map = dict(zip(genres, list(range(len(genres)))))\n",
    "print(len(genres))\n",
    "np.save('genre_map.npy', genre_map)"
   ]
  },
  {
   "cell_type": "code",
   "execution_count": 5,
   "metadata": {},
   "outputs": [],
   "source": [
    "vocab = np.load('vocab.npy')\n",
    "vocab_map = dict(zip(vocab, list(range(1, len(vocab)+1))))\n",
    "np.save('vocab_map.npy', vocab_map)"
   ]
  },
  {
   "cell_type": "code",
   "execution_count": 6,
   "metadata": {},
   "outputs": [],
   "source": [
    "def generate_data(name, ids):\n",
    "    emb_data, token_data, ratings, genres = [], [], [], []\n",
    "    for movie_id in ids:\n",
    "        cur_emb = []\n",
    "        cur_tokens = []\n",
    "        for conversation in movie_data[movie_id]['conversation']:\n",
    "            for lid, cid, tokens, emb in conversation:\n",
    "                cur_emb.append((lid, emb))\n",
    "                cur_tokens.append((lid, [vocab_map[x] for x in tokens]))\n",
    "        cur_emb.sort(key=lambda x:x[0])\n",
    "        cur_tokens.sort(key=lambda x:x[0])\n",
    "        cur_emb = [x[1] for x in cur_emb]\n",
    "        cur_tokens = [x[1] for x in cur_tokens]\n",
    "        emb_data.append(cur_emb)\n",
    "        token_data.append(cur_tokens)\n",
    "        ratings.append(movie_data[movie_id]['meta'][1])\n",
    "        genres.append([genre_map[x] for x in eval(movie_data[movie_id]['meta'][2])])\n",
    "    np.savez(name + '_pretrain.npz', data=emb_data, ratings=ratings, genres=genres)\n",
    "    np.savez(name + '_vocab.npz', data=token_data, ratings=ratings, genres=genres)"
   ]
  },
  {
   "cell_type": "code",
   "execution_count": 7,
   "metadata": {},
   "outputs": [],
   "source": [
    "# generate_data('movie', movie_ids)\n",
    "\n",
    "small_ids = random.sample(movie_ids, 100)\n",
    "generate_data('movie_test', small_ids)"
   ]
  },
  {
   "cell_type": "code",
   "execution_count": 8,
   "metadata": {},
   "outputs": [],
   "source": [
    "movie_pretrain = np.load('movie_test_pretrain.npz', allow_pickle=True)\n",
    "movie_vocab = np.load('movie_test_vocab.npz', allow_pickle=True)"
   ]
  },
  {
   "cell_type": "code",
   "execution_count": 9,
   "metadata": {},
   "outputs": [
    {
     "data": {
      "text/plain": "832"
     },
     "execution_count": 9,
     "metadata": {},
     "output_type": "execute_result"
    }
   ],
   "source": [
    "len(movie_vocab['data'][0])"
   ]
  }
 ]
}